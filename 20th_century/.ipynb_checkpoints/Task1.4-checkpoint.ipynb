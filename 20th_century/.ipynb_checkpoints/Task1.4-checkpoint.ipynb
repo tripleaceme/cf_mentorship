{
 "cells": [
  {
   "cell_type": "code",
   "execution_count": 2,
   "id": "19bc988d-2821-46d0-9348-4c7a606e7fce",
   "metadata": {},
   "outputs": [],
   "source": [
    "# Import libraries\n",
    "import pandas as pd\n",
    "from selenium import webdriver\n",
    "from selenium.webdriver.common.by import By\n",
    "from selenium.webdriver.chrome.service import Service\n",
    "from bs4 import BeautifulSoup\n",
    "import time"
   ]
  },
  {
   "cell_type": "code",
   "execution_count": 11,
   "id": "90e192ee-83c0-41d5-817e-cdac1c73eb81",
   "metadata": {},
   "outputs": [],
   "source": [
    "driver_path = '/usr/local/bin/chromedriver'\n",
    "service = Service(driver_path)\n",
    "driver = webdriver.Chrome(service=Service(driver_path))"
   ]
  },
  {
   "cell_type": "code",
   "execution_count": 13,
   "id": "45596610-ee6d-4ae0-938d-a22de3be4702",
   "metadata": {},
   "outputs": [],
   "source": [
    "# Get URL\n",
    "page_url = requests.get(\"https://en.wikipedia.org/wiki/Key_events_of_the_20th_century\")"
   ]
  },
  {
   "cell_type": "code",
   "execution_count": 14,
   "id": "66f76379-b95b-4410-8929-752398386a3b",
   "metadata": {},
   "outputs": [
    {
     "name": "stdout",
     "output_type": "stream",
     "text": [
      "<title>Key events of the 20th century - Wikipedia</title>\n"
     ]
    }
   ],
   "source": [
    "# Create soup and get title\n",
    "soup = BeautifulSoup(page_url.text, 'html.parser')\n",
    "print(soup.title)"
   ]
  },
  {
   "cell_type": "code",
   "execution_count": 16,
   "id": "d2089243-11cd-4a68-9b94-083f822686df",
   "metadata": {},
   "outputs": [],
   "source": [
    "text = soup.get_text()\n",
    "text = text.encode ('UTF-8')"
   ]
  },
  {
   "cell_type": "code",
   "execution_count": 17,
   "id": "a0b120eb-1d41-4253-be23-e34add4381b7",
   "metadata": {},
   "outputs": [],
   "source": [
    "with open('20th_Century_Wiki.txt', 'wb') as f:\n",
    "       f.write(text)"
   ]
  },
  {
   "cell_type": "markdown",
   "id": "6e9d50a2-1138-48fe-8723-956d0b3d552a",
   "metadata": {},
   "source": [
    "# Using requests with BeutifulSoup"
   ]
  },
  {
   "cell_type": "code",
   "execution_count": 18,
   "id": "83cffdde-f36b-4058-b2e2-9552437e3949",
   "metadata": {},
   "outputs": [],
   "source": [
    "# Get the page’s contents\n",
    "page_url = \"https://en.wikipedia.org/wiki/Alice%27s_Adventures_in_Wonderland\"\n",
    "driver.get(page_url)"
   ]
  },
  {
   "cell_type": "code",
   "execution_count": 19,
   "id": "64330384-8a0b-438e-bd41-4291c9e81af5",
   "metadata": {},
   "outputs": [],
   "source": [
    "# Create a collection of the characters\n",
    "characters_elems = driver.find_elements(by = By.CLASS_NAME, value = 'div-col')"
   ]
  },
  {
   "cell_type": "code",
   "execution_count": 21,
   "id": "a3ab8341-b1c1-47f6-9229-14ceaaa85898",
   "metadata": {},
   "outputs": [
    {
     "data": {
      "text/plain": [
       "'Alice\\nThe White Rabbit\\nThe Mouse\\nThe Dodo\\nThe Lory\\nThe Eaglet\\nThe Duck\\nPat\\nBill the Lizard\\nPuppy\\nThe Caterpillar\\nThe Duchess\\nThe Cheshire Cat\\nThe Hatter\\nThe March Hare\\nThe Dormouse\\nThe Queen of Hearts\\nThe King of Hearts\\nThe Knave of Hearts\\nThe Gryphon\\nThe Mock Turtle'"
      ]
     },
     "execution_count": 21,
     "metadata": {},
     "output_type": "execute_result"
    }
   ],
   "source": [
    "characters_elems[0].text"
   ]
  },
  {
   "cell_type": "code",
   "execution_count": 24,
   "id": "20eece58-7f3d-455c-adee-8773ec17441e",
   "metadata": {},
   "outputs": [],
   "source": [
    "list_char = characters_elems[0].text.split(\"\\n\")"
   ]
  },
  {
   "cell_type": "code",
   "execution_count": 78,
   "id": "6e58ec4c-699d-4ae2-b01f-6e2befde401e",
   "metadata": {},
   "outputs": [
    {
     "data": {
      "text/plain": [
       "['Alice',\n",
       " 'The White Rabbit',\n",
       " 'The Mouse',\n",
       " 'The Dodo',\n",
       " 'The Lory',\n",
       " 'The Eaglet',\n",
       " 'The Duck',\n",
       " 'Pat',\n",
       " 'Bill the Lizard',\n",
       " 'Puppy']"
      ]
     },
     "execution_count": 78,
     "metadata": {},
     "output_type": "execute_result"
    }
   ],
   "source": [
    "# first 10 characters\n",
    "list_char[0:10]"
   ]
  },
  {
   "cell_type": "code",
   "execution_count": 26,
   "id": "00302aba-9794-40eb-b42c-96932bad10ae",
   "metadata": {},
   "outputs": [],
   "source": [
    "# Put the characters into a dataframe\n",
    "df = pd.DataFrame(list_char, columns = [\"character\"]) "
   ]
  },
  {
   "cell_type": "code",
   "execution_count": 79,
   "id": "69f2303d-5d09-4edb-b3b2-d5962ecca7a8",
   "metadata": {},
   "outputs": [
    {
     "data": {
      "text/html": [
       "<div>\n",
       "<style scoped>\n",
       "    .dataframe tbody tr th:only-of-type {\n",
       "        vertical-align: middle;\n",
       "    }\n",
       "\n",
       "    .dataframe tbody tr th {\n",
       "        vertical-align: top;\n",
       "    }\n",
       "\n",
       "    .dataframe thead th {\n",
       "        text-align: right;\n",
       "    }\n",
       "</style>\n",
       "<table border=\"1\" class=\"dataframe\">\n",
       "  <thead>\n",
       "    <tr style=\"text-align: right;\">\n",
       "      <th></th>\n",
       "      <th>character</th>\n",
       "    </tr>\n",
       "  </thead>\n",
       "  <tbody>\n",
       "    <tr>\n",
       "      <th>0</th>\n",
       "      <td>Alice</td>\n",
       "    </tr>\n",
       "    <tr>\n",
       "      <th>1</th>\n",
       "      <td>The White Rabbit</td>\n",
       "    </tr>\n",
       "    <tr>\n",
       "      <th>2</th>\n",
       "      <td>The Mouse</td>\n",
       "    </tr>\n",
       "    <tr>\n",
       "      <th>3</th>\n",
       "      <td>The Dodo</td>\n",
       "    </tr>\n",
       "    <tr>\n",
       "      <th>4</th>\n",
       "      <td>The Lory</td>\n",
       "    </tr>\n",
       "    <tr>\n",
       "      <th>5</th>\n",
       "      <td>The Eaglet</td>\n",
       "    </tr>\n",
       "    <tr>\n",
       "      <th>6</th>\n",
       "      <td>The Duck</td>\n",
       "    </tr>\n",
       "    <tr>\n",
       "      <th>7</th>\n",
       "      <td>Pat</td>\n",
       "    </tr>\n",
       "    <tr>\n",
       "      <th>8</th>\n",
       "      <td>Bill the Lizard</td>\n",
       "    </tr>\n",
       "    <tr>\n",
       "      <th>9</th>\n",
       "      <td>Puppy</td>\n",
       "    </tr>\n",
       "  </tbody>\n",
       "</table>\n",
       "</div>"
      ],
      "text/plain": [
       "          character\n",
       "0             Alice\n",
       "1  The White Rabbit\n",
       "2         The Mouse\n",
       "3          The Dodo\n",
       "4          The Lory\n",
       "5        The Eaglet\n",
       "6          The Duck\n",
       "7               Pat\n",
       "8   Bill the Lizard\n",
       "9             Puppy"
      ]
     },
     "execution_count": 79,
     "metadata": {},
     "output_type": "execute_result"
    }
   ],
   "source": [
    "# first 10 character\n",
    "df.head(10)"
   ]
  },
  {
   "cell_type": "code",
   "execution_count": 80,
   "id": "6f7d06d9-3f72-49e5-96b1-dbad68c1b27f",
   "metadata": {},
   "outputs": [],
   "source": [
    "# Get URL\n",
    "page_url =  requests.get(\"https://en.wikipedia.org/wiki/Alice%27s_Adventures_in_Wonderland\")"
   ]
  },
  {
   "cell_type": "code",
   "execution_count": 81,
   "id": "beca5a83-6352-4d65-aba5-4381bfdbb91a",
   "metadata": {},
   "outputs": [
    {
     "name": "stdout",
     "output_type": "stream",
     "text": [
      "<title>Alice's Adventures in Wonderland - Wikipedia</title>\n"
     ]
    }
   ],
   "source": [
    "# Create soup and get title\n",
    "soup = BeautifulSoup(page_url.text, 'html.parser')\n",
    "print(soup.title)"
   ]
  },
  {
   "cell_type": "code",
   "execution_count": 82,
   "id": "963488f4-2d41-49f2-8f27-acf7b93fc89c",
   "metadata": {},
   "outputs": [],
   "source": [
    "text = soup.get_text()\n",
    "text = text.encode ('utf-8')"
   ]
  },
  {
   "cell_type": "code",
   "execution_count": 83,
   "id": "3c646910-bd09-44df-aa95-ceba5a919587",
   "metadata": {},
   "outputs": [],
   "source": [
    "with open('Alice_article_Wiki.txt', 'wb') as f:\n",
    "       f.write(text)"
   ]
  },
  {
   "cell_type": "markdown",
   "id": "d70b1d0b-3d8a-4bfd-ab4a-4ba0f21ec070",
   "metadata": {},
   "source": [
    "# Get Country Data"
   ]
  },
  {
   "cell_type": "code",
   "execution_count": 31,
   "id": "7b1c1325-6dab-486c-83f2-b8a21ae19194",
   "metadata": {},
   "outputs": [],
   "source": [
    "# Get the page’s contents\n",
    "page_url = \"https://simple.m.wikipedia.org/wiki/List_of_countries\"\n",
    "driver.get(page_url)"
   ]
  },
  {
   "cell_type": "code",
   "execution_count": 75,
   "id": "ad13bf2b-41a4-40dc-a804-4ea8bb0b28f7",
   "metadata": {},
   "outputs": [],
   "source": [
    "# Wait for the page to load fully\n",
    "time.sleep(5)  "
   ]
  },
  {
   "cell_type": "code",
   "execution_count": 34,
   "id": "30a60a44-dea1-4072-b175-c1e90e4f73f7",
   "metadata": {},
   "outputs": [],
   "source": [
    "# Create a collection of the characters\n",
    "country_elems = driver.find_elements(by = By.TAG_NAME, value = 'P')"
   ]
  },
  {
   "cell_type": "code",
   "execution_count": 72,
   "id": "6fa42cf0-7f32-43d3-826c-eb0cd281ecc8",
   "metadata": {},
   "outputs": [],
   "source": [
    "# all countries are in paragraph 2 - 30\n",
    "country_list = []\n",
    "for i in range(2,31):\n",
    "    country_list.append(country_elems[i].text)"
   ]
  },
  {
   "cell_type": "code",
   "execution_count": 73,
   "id": "f0c5e880-893f-47a3-b219-d95d19bdcc55",
   "metadata": {},
   "outputs": [],
   "source": [
    "# split the country list and remove the leading and trailing spaces\n",
    "clean_country = ['country']\n",
    "for c in country_list:\n",
    "    new_c = c.split('-')\n",
    "    for new in new_c:\n",
    "        clean_country.append(new.strip())"
   ]
  },
  {
   "cell_type": "code",
   "execution_count": 74,
   "id": "b476ac86-2f62-4d0d-aa44-3c9e3ff45862",
   "metadata": {},
   "outputs": [],
   "source": [
    "# # Write the cleaned country names to a CSV file\n",
    "with open('country_list.csv','w')as file:\n",
    "    for country in clean_country:\n",
    "        file.write(f\"{country}\\n\")"
   ]
  },
  {
   "cell_type": "code",
   "execution_count": 76,
   "id": "351c9354-6f30-4e61-b03a-a47a76de5fcc",
   "metadata": {},
   "outputs": [],
   "source": [
    "# Close the WebDriver\n",
    "driver.quit()"
   ]
  },
  {
   "cell_type": "code",
   "execution_count": null,
   "id": "2375ed38-3920-4db9-84c1-18ed62d4b706",
   "metadata": {},
   "outputs": [],
   "source": []
  }
 ],
 "metadata": {
  "kernelspec": {
   "display_name": "Python 3 (ipykernel)",
   "language": "python",
   "name": "python3"
  },
  "language_info": {
   "codemirror_mode": {
    "name": "ipython",
    "version": 3
   },
   "file_extension": ".py",
   "mimetype": "text/x-python",
   "name": "python",
   "nbconvert_exporter": "python",
   "pygments_lexer": "ipython3",
   "version": "3.12.2"
  }
 },
 "nbformat": 4,
 "nbformat_minor": 5
}
