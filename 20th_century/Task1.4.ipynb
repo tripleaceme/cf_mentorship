{
 "cells": [
  {
   "cell_type": "code",
   "execution_count": 2,
   "id": "19bc988d-2821-46d0-9348-4c7a606e7fce",
   "metadata": {},
   "outputs": [],
   "source": [
    "# Import libraries\n",
    "\n",
    "import pandas as pd\n",
    "from selenium import webdriver\n",
    "from selenium.webdriver.common.by import By\n",
    "from selenium.webdriver.chrome.service import Service\n",
    "from bs4 import BeautifulSoup"
   ]
  },
  {
   "cell_type": "code",
   "execution_count": 11,
   "id": "90e192ee-83c0-41d5-817e-cdac1c73eb81",
   "metadata": {},
   "outputs": [],
   "source": [
    "driver_path = '/usr/local/bin/chromedriver'\n",
    "service = Service(driver_path)\n",
    "driver = webdriver.Chrome(service=Service(driver_path))"
   ]
  },
  {
   "cell_type": "code",
   "execution_count": 13,
   "id": "45596610-ee6d-4ae0-938d-a22de3be4702",
   "metadata": {},
   "outputs": [],
   "source": [
    "# Get URL\n",
    "\n",
    "page_url = requests.get(\"https://en.wikipedia.org/wiki/Key_events_of_the_20th_century\")"
   ]
  },
  {
   "cell_type": "code",
   "execution_count": 14,
   "id": "66f76379-b95b-4410-8929-752398386a3b",
   "metadata": {},
   "outputs": [
    {
     "name": "stdout",
     "output_type": "stream",
     "text": [
      "<title>Key events of the 20th century - Wikipedia</title>\n"
     ]
    }
   ],
   "source": [
    "# Create soup and get title\n",
    "\n",
    "soup = BeautifulSoup(page_url.text, 'html.parser')\n",
    "print(soup.title)"
   ]
  },
  {
   "cell_type": "code",
   "execution_count": 16,
   "id": "d2089243-11cd-4a68-9b94-083f822686df",
   "metadata": {},
   "outputs": [],
   "source": [
    "text = soup.get_text()\n",
    "text = text.encode ('UTF-8')"
   ]
  },
  {
   "cell_type": "code",
   "execution_count": 17,
   "id": "a0b120eb-1d41-4253-be23-e34add4381b7",
   "metadata": {},
   "outputs": [],
   "source": [
    "with open('20th_Century_Wiki.txt', 'wb') as f:\n",
    "       f.write(text)"
   ]
  },
  {
   "cell_type": "code",
   "execution_count": 18,
   "id": "83cffdde-f36b-4058-b2e2-9552437e3949",
   "metadata": {},
   "outputs": [],
   "source": [
    "# Get the page’s contents\n",
    "\n",
    "page_url = \"https://en.wikipedia.org/wiki/Alice%27s_Adventures_in_Wonderland\"\n",
    "driver.get(page_url)"
   ]
  },
  {
   "cell_type": "code",
   "execution_count": 19,
   "id": "64330384-8a0b-438e-bd41-4291c9e81af5",
   "metadata": {},
   "outputs": [],
   "source": [
    "# Create a collection of the characters\n",
    "\n",
    "characters_elems = driver.find_elements(by = By.CLASS_NAME, value = 'div-col')"
   ]
  },
  {
   "cell_type": "code",
   "execution_count": 21,
   "id": "a3ab8341-b1c1-47f6-9229-14ceaaa85898",
   "metadata": {},
   "outputs": [
    {
     "data": {
      "text/plain": [
       "'Alice\\nThe White Rabbit\\nThe Mouse\\nThe Dodo\\nThe Lory\\nThe Eaglet\\nThe Duck\\nPat\\nBill the Lizard\\nPuppy\\nThe Caterpillar\\nThe Duchess\\nThe Cheshire Cat\\nThe Hatter\\nThe March Hare\\nThe Dormouse\\nThe Queen of Hearts\\nThe King of Hearts\\nThe Knave of Hearts\\nThe Gryphon\\nThe Mock Turtle'"
      ]
     },
     "execution_count": 21,
     "metadata": {},
     "output_type": "execute_result"
    }
   ],
   "source": [
    "characters_elems[0].text"
   ]
  },
  {
   "cell_type": "code",
   "execution_count": 24,
   "id": "20eece58-7f3d-455c-adee-8773ec17441e",
   "metadata": {},
   "outputs": [],
   "source": [
    "list_char = characters_elems[0].text.split(\"\\n\")"
   ]
  },
  {
   "cell_type": "code",
   "execution_count": 25,
   "id": "6e58ec4c-699d-4ae2-b01f-6e2befde401e",
   "metadata": {},
   "outputs": [
    {
     "data": {
      "text/plain": [
       "['Alice',\n",
       " 'The White Rabbit',\n",
       " 'The Mouse',\n",
       " 'The Dodo',\n",
       " 'The Lory',\n",
       " 'The Eaglet',\n",
       " 'The Duck',\n",
       " 'Pat',\n",
       " 'Bill the Lizard',\n",
       " 'Puppy',\n",
       " 'The Caterpillar',\n",
       " 'The Duchess',\n",
       " 'The Cheshire Cat',\n",
       " 'The Hatter',\n",
       " 'The March Hare',\n",
       " 'The Dormouse',\n",
       " 'The Queen of Hearts',\n",
       " 'The King of Hearts',\n",
       " 'The Knave of Hearts',\n",
       " 'The Gryphon',\n",
       " 'The Mock Turtle']"
      ]
     },
     "execution_count": 25,
     "metadata": {},
     "output_type": "execute_result"
    }
   ],
   "source": [
    "list_char"
   ]
  },
  {
   "cell_type": "code",
   "execution_count": 26,
   "id": "00302aba-9794-40eb-b42c-96932bad10ae",
   "metadata": {},
   "outputs": [],
   "source": [
    "# Put the characters into a dataframe\n",
    "\n",
    "df = pd.DataFrame(list_char, columns = [\"character\"]) "
   ]
  },
  {
   "cell_type": "code",
   "execution_count": 27,
   "id": "69f2303d-5d09-4edb-b3b2-d5962ecca7a8",
   "metadata": {},
   "outputs": [
    {
     "data": {
      "text/html": [
       "<div>\n",
       "<style scoped>\n",
       "    .dataframe tbody tr th:only-of-type {\n",
       "        vertical-align: middle;\n",
       "    }\n",
       "\n",
       "    .dataframe tbody tr th {\n",
       "        vertical-align: top;\n",
       "    }\n",
       "\n",
       "    .dataframe thead th {\n",
       "        text-align: right;\n",
       "    }\n",
       "</style>\n",
       "<table border=\"1\" class=\"dataframe\">\n",
       "  <thead>\n",
       "    <tr style=\"text-align: right;\">\n",
       "      <th></th>\n",
       "      <th>character</th>\n",
       "    </tr>\n",
       "  </thead>\n",
       "  <tbody>\n",
       "    <tr>\n",
       "      <th>0</th>\n",
       "      <td>Alice</td>\n",
       "    </tr>\n",
       "    <tr>\n",
       "      <th>1</th>\n",
       "      <td>The White Rabbit</td>\n",
       "    </tr>\n",
       "    <tr>\n",
       "      <th>2</th>\n",
       "      <td>The Mouse</td>\n",
       "    </tr>\n",
       "    <tr>\n",
       "      <th>3</th>\n",
       "      <td>The Dodo</td>\n",
       "    </tr>\n",
       "    <tr>\n",
       "      <th>4</th>\n",
       "      <td>The Lory</td>\n",
       "    </tr>\n",
       "    <tr>\n",
       "      <th>5</th>\n",
       "      <td>The Eaglet</td>\n",
       "    </tr>\n",
       "    <tr>\n",
       "      <th>6</th>\n",
       "      <td>The Duck</td>\n",
       "    </tr>\n",
       "    <tr>\n",
       "      <th>7</th>\n",
       "      <td>Pat</td>\n",
       "    </tr>\n",
       "    <tr>\n",
       "      <th>8</th>\n",
       "      <td>Bill the Lizard</td>\n",
       "    </tr>\n",
       "    <tr>\n",
       "      <th>9</th>\n",
       "      <td>Puppy</td>\n",
       "    </tr>\n",
       "    <tr>\n",
       "      <th>10</th>\n",
       "      <td>The Caterpillar</td>\n",
       "    </tr>\n",
       "    <tr>\n",
       "      <th>11</th>\n",
       "      <td>The Duchess</td>\n",
       "    </tr>\n",
       "    <tr>\n",
       "      <th>12</th>\n",
       "      <td>The Cheshire Cat</td>\n",
       "    </tr>\n",
       "    <tr>\n",
       "      <th>13</th>\n",
       "      <td>The Hatter</td>\n",
       "    </tr>\n",
       "    <tr>\n",
       "      <th>14</th>\n",
       "      <td>The March Hare</td>\n",
       "    </tr>\n",
       "    <tr>\n",
       "      <th>15</th>\n",
       "      <td>The Dormouse</td>\n",
       "    </tr>\n",
       "    <tr>\n",
       "      <th>16</th>\n",
       "      <td>The Queen of Hearts</td>\n",
       "    </tr>\n",
       "    <tr>\n",
       "      <th>17</th>\n",
       "      <td>The King of Hearts</td>\n",
       "    </tr>\n",
       "    <tr>\n",
       "      <th>18</th>\n",
       "      <td>The Knave of Hearts</td>\n",
       "    </tr>\n",
       "    <tr>\n",
       "      <th>19</th>\n",
       "      <td>The Gryphon</td>\n",
       "    </tr>\n",
       "    <tr>\n",
       "      <th>20</th>\n",
       "      <td>The Mock Turtle</td>\n",
       "    </tr>\n",
       "  </tbody>\n",
       "</table>\n",
       "</div>"
      ],
      "text/plain": [
       "              character\n",
       "0                 Alice\n",
       "1      The White Rabbit\n",
       "2             The Mouse\n",
       "3              The Dodo\n",
       "4              The Lory\n",
       "5            The Eaglet\n",
       "6              The Duck\n",
       "7                   Pat\n",
       "8       Bill the Lizard\n",
       "9                 Puppy\n",
       "10      The Caterpillar\n",
       "11          The Duchess\n",
       "12     The Cheshire Cat\n",
       "13           The Hatter\n",
       "14       The March Hare\n",
       "15         The Dormouse\n",
       "16  The Queen of Hearts\n",
       "17   The King of Hearts\n",
       "18  The Knave of Hearts\n",
       "19          The Gryphon\n",
       "20      The Mock Turtle"
      ]
     },
     "execution_count": 27,
     "metadata": {},
     "output_type": "execute_result"
    }
   ],
   "source": [
    "df"
   ]
  },
  {
   "cell_type": "code",
   "execution_count": 29,
   "id": "963488f4-2d41-49f2-8f27-acf7b93fc89c",
   "metadata": {},
   "outputs": [
    {
     "name": "stdout",
     "output_type": "stream",
     "text": [
      "<title>Alice's Adventures in Wonderland - Wikipedia</title>\n"
     ]
    }
   ],
   "source": [
    "# Get URL\n",
    "\n",
    "page_url =  requests.get(\"https://en.wikipedia.org/wiki/Alice%27s_Adventures_in_Wonderland\")\n",
    "\n",
    "# Create soup and get title\n",
    "\n",
    "soup = BeautifulSoup(page_url.text, 'html.parser')\n",
    "print(soup.title)  \n",
    "\n",
    "text = soup.get_text()\n",
    "\n",
    "text = text.encode ('utf-8')\n",
    "\n",
    "with open('Alice_article_Wiki.txt', 'wb') as f:\n",
    "       f.write(text)"
   ]
  },
  {
   "cell_type": "code",
   "execution_count": null,
   "id": "a428d9eb-d6b1-4fc1-bcc1-017299aa7e4e",
   "metadata": {},
   "outputs": [],
   "source": []
  }
 ],
 "metadata": {
  "kernelspec": {
   "display_name": "Python 3 (ipykernel)",
   "language": "python",
   "name": "python3"
  },
  "language_info": {
   "codemirror_mode": {
    "name": "ipython",
    "version": 3
   },
   "file_extension": ".py",
   "mimetype": "text/x-python",
   "name": "python",
   "nbconvert_exporter": "python",
   "pygments_lexer": "ipython3",
   "version": "3.12.2"
  }
 },
 "nbformat": 4,
 "nbformat_minor": 5
}
